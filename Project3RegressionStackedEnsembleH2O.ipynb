{
 "cells": [
  {
   "cell_type": "code",
   "execution_count": 1,
   "metadata": {},
   "outputs": [],
   "source": [
    "import h2o\n",
    "import pandas as pd\n",
    "import numpy as np\n",
    "import datetime"
   ]
  },
  {
   "cell_type": "code",
   "execution_count": 2,
   "metadata": {},
   "outputs": [
    {
     "name": "stdout",
     "output_type": "stream",
     "text": [
      "Checking whether there is an H2O instance running at http://localhost:54321 . connected.\n"
     ]
    },
    {
     "data": {
      "text/html": [
       "<div style=\"overflow:auto\"><table style=\"width:50%\"><tr><td>H2O_cluster_uptime:</td>\n",
       "<td>1 day 0 hours 11 mins</td></tr>\n",
       "<tr><td>H2O_cluster_timezone:</td>\n",
       "<td>America/Chicago</td></tr>\n",
       "<tr><td>H2O_data_parsing_timezone:</td>\n",
       "<td>UTC</td></tr>\n",
       "<tr><td>H2O_cluster_version:</td>\n",
       "<td>3.30.0.7</td></tr>\n",
       "<tr><td>H2O_cluster_version_age:</td>\n",
       "<td>17 days </td></tr>\n",
       "<tr><td>H2O_cluster_name:</td>\n",
       "<td>H2O_from_python_Paul_k247jv</td></tr>\n",
       "<tr><td>H2O_cluster_total_nodes:</td>\n",
       "<td>1</td></tr>\n",
       "<tr><td>H2O_cluster_free_memory:</td>\n",
       "<td>3.010 Gb</td></tr>\n",
       "<tr><td>H2O_cluster_total_cores:</td>\n",
       "<td>8</td></tr>\n",
       "<tr><td>H2O_cluster_allowed_cores:</td>\n",
       "<td>8</td></tr>\n",
       "<tr><td>H2O_cluster_status:</td>\n",
       "<td>locked, healthy</td></tr>\n",
       "<tr><td>H2O_connection_url:</td>\n",
       "<td>http://localhost:54321</td></tr>\n",
       "<tr><td>H2O_connection_proxy:</td>\n",
       "<td>{\"http\": null, \"https\": null}</td></tr>\n",
       "<tr><td>H2O_internal_security:</td>\n",
       "<td>False</td></tr>\n",
       "<tr><td>H2O_API_Extensions:</td>\n",
       "<td>Amazon S3, Algos, AutoML, Core V3, TargetEncoder, Core V4</td></tr>\n",
       "<tr><td>Python_version:</td>\n",
       "<td>3.8.3 final</td></tr></table></div>"
      ],
      "text/plain": [
       "--------------------------  ---------------------------------------------------------\n",
       "H2O_cluster_uptime:         1 day 0 hours 11 mins\n",
       "H2O_cluster_timezone:       America/Chicago\n",
       "H2O_data_parsing_timezone:  UTC\n",
       "H2O_cluster_version:        3.30.0.7\n",
       "H2O_cluster_version_age:    17 days\n",
       "H2O_cluster_name:           H2O_from_python_Paul_k247jv\n",
       "H2O_cluster_total_nodes:    1\n",
       "H2O_cluster_free_memory:    3.010 Gb\n",
       "H2O_cluster_total_cores:    8\n",
       "H2O_cluster_allowed_cores:  8\n",
       "H2O_cluster_status:         locked, healthy\n",
       "H2O_connection_url:         http://localhost:54321\n",
       "H2O_connection_proxy:       {\"http\": null, \"https\": null}\n",
       "H2O_internal_security:      False\n",
       "H2O_API_Extensions:         Amazon S3, Algos, AutoML, Core V3, TargetEncoder, Core V4\n",
       "Python_version:             3.8.3 final\n",
       "--------------------------  ---------------------------------------------------------"
      ]
     },
     "metadata": {},
     "output_type": "display_data"
    }
   ],
   "source": [
    "h2o.init()"
   ]
  },
  {
   "cell_type": "code",
   "execution_count": 3,
   "metadata": {},
   "outputs": [
    {
     "name": "stdout",
     "output_type": "stream",
     "text": [
      "Parse progress: |█████████████████████████████████████████████████████████| 100%\n"
     ]
    }
   ],
   "source": [
    "data = h2o.import_file(\"http://coursera.h2o.ai/house_data.3487.csv\")"
   ]
  },
  {
   "cell_type": "code",
   "execution_count": 4,
   "metadata": {},
   "outputs": [
    {
     "data": {
      "text/html": [
       "<table>\n",
       "<thead>\n",
       "<tr><th>       </th><th>id                </th><th>date           </th><th>price             </th><th>bedrooms         </th><th>bathrooms         </th><th>sqft_living      </th><th>sqft_lot         </th><th>floors            </th><th>waterfront          </th><th>view               </th><th>condition         </th><th>grade             </th><th>sqft_above        </th><th>sqft_basement     </th><th>yr_built          </th><th>yr_renovated      </th><th>zipcode          </th><th>lat                </th><th>long               </th><th>sqft_living15     </th><th>sqft_lot15        </th></tr>\n",
       "</thead>\n",
       "<tbody>\n",
       "<tr><td>type   </td><td>int               </td><td>enum           </td><td>int               </td><td>int              </td><td>real              </td><td>int              </td><td>int              </td><td>real              </td><td>int                 </td><td>int                </td><td>int               </td><td>int               </td><td>int               </td><td>int               </td><td>int               </td><td>int               </td><td>int              </td><td>real               </td><td>real               </td><td>int               </td><td>int               </td></tr>\n",
       "<tr><td>mins   </td><td>1000102.0         </td><td>               </td><td>75000.0           </td><td>0.0              </td><td>0.0               </td><td>290.0            </td><td>520.0            </td><td>1.0               </td><td>0.0                 </td><td>0.0                </td><td>1.0               </td><td>1.0               </td><td>290.0             </td><td>0.0               </td><td>1900.0            </td><td>0.0               </td><td>98001.0          </td><td>47.1559            </td><td>-122.519           </td><td>399.0             </td><td>651.0             </td></tr>\n",
       "<tr><td>mean   </td><td>4580301520.864987 </td><td>               </td><td>540088.1417665284 </td><td>3.370841623097218</td><td>2.114757321982139 </td><td>2079.899736269819</td><td>15106.96756581695</td><td>1.4943089807060526</td><td>0.007541757275713691</td><td>0.23430342849211097</td><td>3.4094295100171164</td><td>7.6568731781798105</td><td>1788.3906907879518</td><td>291.50904548188555</td><td>1971.0051357979064</td><td>84.4022579003377  </td><td>98077.93980474674</td><td>47.56005251931665  </td><td>-122.21389640494158</td><td>1986.5524915560036</td><td>12768.45565169118 </td></tr>\n",
       "<tr><td>maxs   </td><td>9900000190.0      </td><td>               </td><td>7700000.0         </td><td>33.0             </td><td>8.0               </td><td>13540.0          </td><td>1651359.0        </td><td>3.5               </td><td>1.0                 </td><td>4.0                </td><td>5.0               </td><td>13.0              </td><td>9410.0            </td><td>4820.0            </td><td>2015.0            </td><td>2015.0            </td><td>98199.0          </td><td>47.7776            </td><td>-121.315           </td><td>6210.0            </td><td>871200.0          </td></tr>\n",
       "<tr><td>sigma  </td><td>2876565571.3120522</td><td>               </td><td>367127.19648270035</td><td>0.930061831147451</td><td>0.7701631572177408</td><td>918.4408970468095</td><td>41420.51151513551</td><td>0.5399888951423489</td><td>0.08651719772788766 </td><td>0.7663175692736117 </td><td>0.6507430463662044</td><td>1.1754587569743344</td><td>828.0909776519175 </td><td>442.57504267746685</td><td>29.373410802386235</td><td>401.67924001917555</td><td>53.50502625747248</td><td>0.13856371024192365</td><td>0.14082834238139275</td><td>685.3913042527788 </td><td>27304.179631338524</td></tr>\n",
       "<tr><td>zeros  </td><td>0                 </td><td>               </td><td>0                 </td><td>13               </td><td>10                </td><td>0                </td><td>0                </td><td>0                 </td><td>21450               </td><td>19489              </td><td>0                 </td><td>0                 </td><td>0                 </td><td>13126             </td><td>0                 </td><td>20699             </td><td>0                </td><td>0                  </td><td>0                  </td><td>0                 </td><td>0                 </td></tr>\n",
       "<tr><td>missing</td><td>0                 </td><td>0              </td><td>0                 </td><td>0                </td><td>0                 </td><td>0                </td><td>0                </td><td>0                 </td><td>0                   </td><td>0                  </td><td>0                 </td><td>0                 </td><td>0                 </td><td>0                 </td><td>0                 </td><td>0                 </td><td>0                </td><td>0                  </td><td>0                  </td><td>0                 </td><td>0                 </td></tr>\n",
       "<tr><td>0      </td><td>7129300520.0      </td><td>20141013T000000</td><td>221900.0          </td><td>3.0              </td><td>1.0               </td><td>1180.0           </td><td>5650.0           </td><td>1.0               </td><td>0.0                 </td><td>0.0                </td><td>3.0               </td><td>7.0               </td><td>1180.0            </td><td>0.0               </td><td>1955.0            </td><td>0.0               </td><td>98178.0          </td><td>47.5112            </td><td>-122.257           </td><td>1340.0            </td><td>5650.0            </td></tr>\n",
       "<tr><td>1      </td><td>6414100192.0      </td><td>20141209T000000</td><td>538000.0          </td><td>3.0              </td><td>2.25              </td><td>2570.0           </td><td>7242.0           </td><td>2.0               </td><td>0.0                 </td><td>0.0                </td><td>3.0               </td><td>7.0               </td><td>2170.0            </td><td>400.0             </td><td>1951.0            </td><td>1991.0            </td><td>98125.0          </td><td>47.721             </td><td>-122.319           </td><td>1690.0            </td><td>7639.0            </td></tr>\n",
       "<tr><td>2      </td><td>5631500400.0      </td><td>20150225T000000</td><td>180000.0          </td><td>2.0              </td><td>1.0               </td><td>770.0            </td><td>10000.0          </td><td>1.0               </td><td>0.0                 </td><td>0.0                </td><td>3.0               </td><td>6.0               </td><td>770.0             </td><td>0.0               </td><td>1933.0            </td><td>0.0               </td><td>98028.0          </td><td>47.7379            </td><td>-122.233           </td><td>2720.0            </td><td>8062.0            </td></tr>\n",
       "<tr><td>3      </td><td>2487200875.0      </td><td>20141209T000000</td><td>604000.0          </td><td>4.0              </td><td>3.0               </td><td>1960.0           </td><td>5000.0           </td><td>1.0               </td><td>0.0                 </td><td>0.0                </td><td>5.0               </td><td>7.0               </td><td>1050.0            </td><td>910.0             </td><td>1965.0            </td><td>0.0               </td><td>98136.0          </td><td>47.5208            </td><td>-122.393           </td><td>1360.0            </td><td>5000.0            </td></tr>\n",
       "<tr><td>4      </td><td>1954400510.0      </td><td>20150218T000000</td><td>510000.0          </td><td>3.0              </td><td>2.0               </td><td>1680.0           </td><td>8080.0           </td><td>1.0               </td><td>0.0                 </td><td>0.0                </td><td>3.0               </td><td>8.0               </td><td>1680.0            </td><td>0.0               </td><td>1987.0            </td><td>0.0               </td><td>98074.0          </td><td>47.6168            </td><td>-122.045           </td><td>1800.0            </td><td>7503.0            </td></tr>\n",
       "<tr><td>5      </td><td>7237550310.0      </td><td>20140512T000000</td><td>1225000.0         </td><td>4.0              </td><td>4.5               </td><td>5420.0           </td><td>101930.0         </td><td>1.0               </td><td>0.0                 </td><td>0.0                </td><td>3.0               </td><td>11.0              </td><td>3890.0            </td><td>1530.0            </td><td>2001.0            </td><td>0.0               </td><td>98053.0          </td><td>47.6561            </td><td>-122.005           </td><td>4760.0            </td><td>101930.0          </td></tr>\n",
       "<tr><td>6      </td><td>1321400060.0      </td><td>20140627T000000</td><td>257500.0          </td><td>3.0              </td><td>2.25              </td><td>1715.0           </td><td>6819.0           </td><td>2.0               </td><td>0.0                 </td><td>0.0                </td><td>3.0               </td><td>7.0               </td><td>1715.0            </td><td>0.0               </td><td>1995.0            </td><td>0.0               </td><td>98003.0          </td><td>47.3097            </td><td>-122.327           </td><td>2238.0            </td><td>6819.0            </td></tr>\n",
       "<tr><td>7      </td><td>2008000270.0      </td><td>20150115T000000</td><td>291850.0          </td><td>3.0              </td><td>1.5               </td><td>1060.0           </td><td>9711.0           </td><td>1.0               </td><td>0.0                 </td><td>0.0                </td><td>3.0               </td><td>7.0               </td><td>1060.0            </td><td>0.0               </td><td>1963.0            </td><td>0.0               </td><td>98198.0          </td><td>47.4095            </td><td>-122.315           </td><td>1650.0            </td><td>9711.0            </td></tr>\n",
       "<tr><td>8      </td><td>2414600126.0      </td><td>20150415T000000</td><td>229500.0          </td><td>3.0              </td><td>1.0               </td><td>1780.0           </td><td>7470.0           </td><td>1.0               </td><td>0.0                 </td><td>0.0                </td><td>3.0               </td><td>7.0               </td><td>1050.0            </td><td>730.0             </td><td>1960.0            </td><td>0.0               </td><td>98146.0          </td><td>47.5123            </td><td>-122.337           </td><td>1780.0            </td><td>8113.0            </td></tr>\n",
       "<tr><td>9      </td><td>3793500160.0      </td><td>20150312T000000</td><td>323000.0          </td><td>3.0              </td><td>2.5               </td><td>1890.0           </td><td>6560.0           </td><td>2.0               </td><td>0.0                 </td><td>0.0                </td><td>3.0               </td><td>7.0               </td><td>1890.0            </td><td>0.0               </td><td>2003.0            </td><td>0.0               </td><td>98038.0          </td><td>47.3684            </td><td>-122.031           </td><td>2390.0            </td><td>7570.0            </td></tr>\n",
       "</tbody>\n",
       "</table>"
      ]
     },
     "metadata": {},
     "output_type": "display_data"
    }
   ],
   "source": [
    "data.summary()"
   ]
  },
  {
   "cell_type": "code",
   "execution_count": 5,
   "metadata": {},
   "outputs": [
    {
     "name": "stdout",
     "output_type": "stream",
     "text": [
      "Parse progress: |█████████████████████████████████████████████████████████| 100%\n"
     ]
    }
   ],
   "source": [
    "data = data.as_data_frame() \n",
    "data['year'] = [data['date'][i][:4] for i in range(len(data))]\n",
    "data['month'] = [data['date'][i][4:6] for i in range(len(data))]\n",
    "data = h2o.H2OFrame(data)"
   ]
  },
  {
   "cell_type": "code",
   "execution_count": 6,
   "metadata": {},
   "outputs": [
    {
     "data": {
      "text/html": [
       "<table>\n",
       "<thead>\n",
       "<tr><th>       </th><th>id                </th><th>date           </th><th>price             </th><th>bedrooms         </th><th>bathrooms         </th><th>sqft_living      </th><th>sqft_lot         </th><th>floors            </th><th>waterfront          </th><th>view               </th><th>condition         </th><th>grade             </th><th>sqft_above        </th><th>sqft_basement     </th><th>yr_built          </th><th>yr_renovated      </th><th>zipcode          </th><th>lat                </th><th>long               </th><th>sqft_living15     </th><th>sqft_lot15        </th><th>year              </th><th>month             </th></tr>\n",
       "</thead>\n",
       "<tbody>\n",
       "<tr><td>type   </td><td>int               </td><td>enum           </td><td>int               </td><td>int              </td><td>real              </td><td>int              </td><td>int              </td><td>real              </td><td>int                 </td><td>int                </td><td>int               </td><td>int               </td><td>int               </td><td>int               </td><td>int               </td><td>int               </td><td>int              </td><td>real               </td><td>real               </td><td>int               </td><td>int               </td><td>int               </td><td>int               </td></tr>\n",
       "<tr><td>mins   </td><td>1000102.0         </td><td>               </td><td>75000.0           </td><td>0.0              </td><td>0.0               </td><td>290.0            </td><td>520.0            </td><td>1.0               </td><td>0.0                 </td><td>0.0                </td><td>1.0               </td><td>1.0               </td><td>290.0             </td><td>0.0               </td><td>1900.0            </td><td>0.0               </td><td>98001.0          </td><td>47.1559            </td><td>-122.519           </td><td>399.0             </td><td>651.0             </td><td>2014.0            </td><td>1.0               </td></tr>\n",
       "<tr><td>mean   </td><td>4580301520.864987 </td><td>               </td><td>540088.1417665284 </td><td>3.370841623097218</td><td>2.114757321982139 </td><td>2079.899736269819</td><td>15106.96756581695</td><td>1.4943089807060526</td><td>0.007541757275713691</td><td>0.23430342849211097</td><td>3.4094295100171164</td><td>7.6568731781798105</td><td>1788.3906907879518</td><td>291.50904548188555</td><td>1971.0051357979064</td><td>84.4022579003377  </td><td>98077.93980474674</td><td>47.56005251931665  </td><td>-122.21389640494158</td><td>1986.5524915560036</td><td>12768.45565169118 </td><td>2014.3229537778102</td><td>6.574422801091883 </td></tr>\n",
       "<tr><td>maxs   </td><td>9900000190.0      </td><td>               </td><td>7700000.0         </td><td>33.0             </td><td>8.0               </td><td>13540.0          </td><td>1651359.0        </td><td>3.5               </td><td>1.0                 </td><td>4.0                </td><td>5.0               </td><td>13.0              </td><td>9410.0            </td><td>4820.0            </td><td>2015.0            </td><td>2015.0            </td><td>98199.0          </td><td>47.7776            </td><td>-121.315           </td><td>6210.0            </td><td>871200.0          </td><td>2015.0            </td><td>12.0              </td></tr>\n",
       "<tr><td>sigma  </td><td>2876565571.3120522</td><td>               </td><td>367127.19648270035</td><td>0.930061831147451</td><td>0.7701631572177408</td><td>918.4408970468095</td><td>41420.51151513551</td><td>0.5399888951423489</td><td>0.08651719772788766 </td><td>0.7663175692736117 </td><td>0.6507430463662044</td><td>1.1754587569743344</td><td>828.0909776519175 </td><td>442.57504267746685</td><td>29.373410802386235</td><td>401.67924001917555</td><td>53.50502625747248</td><td>0.13856371024192365</td><td>0.14082834238139275</td><td>685.3913042527788 </td><td>27304.179631338524</td><td>0.4676160310451536</td><td>3.1153077787263648</td></tr>\n",
       "<tr><td>zeros  </td><td>0                 </td><td>               </td><td>0                 </td><td>13               </td><td>10                </td><td>0                </td><td>0                </td><td>0                 </td><td>21450               </td><td>19489              </td><td>0                 </td><td>0                 </td><td>0                 </td><td>13126             </td><td>0                 </td><td>20699             </td><td>0                </td><td>0                  </td><td>0                  </td><td>0                 </td><td>0                 </td><td>0                 </td><td>0                 </td></tr>\n",
       "<tr><td>missing</td><td>0                 </td><td>0              </td><td>0                 </td><td>0                </td><td>0                 </td><td>0                </td><td>0                </td><td>0                 </td><td>0                   </td><td>0                  </td><td>0                 </td><td>0                 </td><td>0                 </td><td>0                 </td><td>0                 </td><td>0                 </td><td>0                </td><td>0                  </td><td>0                  </td><td>0                 </td><td>0                 </td><td>0                 </td><td>0                 </td></tr>\n",
       "<tr><td>0      </td><td>7129300520.0      </td><td>20141013T000000</td><td>221900.0          </td><td>3.0              </td><td>1.0               </td><td>1180.0           </td><td>5650.0           </td><td>1.0               </td><td>0.0                 </td><td>0.0                </td><td>3.0               </td><td>7.0               </td><td>1180.0            </td><td>0.0               </td><td>1955.0            </td><td>0.0               </td><td>98178.0          </td><td>47.5112            </td><td>-122.257           </td><td>1340.0            </td><td>5650.0            </td><td>2014.0            </td><td>10.0              </td></tr>\n",
       "<tr><td>1      </td><td>6414100192.0      </td><td>20141209T000000</td><td>538000.0          </td><td>3.0              </td><td>2.25              </td><td>2570.0           </td><td>7242.0           </td><td>2.0               </td><td>0.0                 </td><td>0.0                </td><td>3.0               </td><td>7.0               </td><td>2170.0            </td><td>400.0             </td><td>1951.0            </td><td>1991.0            </td><td>98125.0          </td><td>47.721             </td><td>-122.319           </td><td>1690.0            </td><td>7639.0            </td><td>2014.0            </td><td>12.0              </td></tr>\n",
       "<tr><td>2      </td><td>5631500400.0      </td><td>20150225T000000</td><td>180000.0          </td><td>2.0              </td><td>1.0               </td><td>770.0            </td><td>10000.0          </td><td>1.0               </td><td>0.0                 </td><td>0.0                </td><td>3.0               </td><td>6.0               </td><td>770.0             </td><td>0.0               </td><td>1933.0            </td><td>0.0               </td><td>98028.0          </td><td>47.7379            </td><td>-122.233           </td><td>2720.0            </td><td>8062.0            </td><td>2015.0            </td><td>2.0               </td></tr>\n",
       "<tr><td>3      </td><td>2487200875.0      </td><td>20141209T000000</td><td>604000.0          </td><td>4.0              </td><td>3.0               </td><td>1960.0           </td><td>5000.0           </td><td>1.0               </td><td>0.0                 </td><td>0.0                </td><td>5.0               </td><td>7.0               </td><td>1050.0            </td><td>910.0             </td><td>1965.0            </td><td>0.0               </td><td>98136.0          </td><td>47.5208            </td><td>-122.393           </td><td>1360.0            </td><td>5000.0            </td><td>2014.0            </td><td>12.0              </td></tr>\n",
       "<tr><td>4      </td><td>1954400510.0      </td><td>20150218T000000</td><td>510000.0          </td><td>3.0              </td><td>2.0               </td><td>1680.0           </td><td>8080.0           </td><td>1.0               </td><td>0.0                 </td><td>0.0                </td><td>3.0               </td><td>8.0               </td><td>1680.0            </td><td>0.0               </td><td>1987.0            </td><td>0.0               </td><td>98074.0          </td><td>47.6168            </td><td>-122.045           </td><td>1800.0            </td><td>7503.0            </td><td>2015.0            </td><td>2.0               </td></tr>\n",
       "<tr><td>5      </td><td>7237550310.0      </td><td>20140512T000000</td><td>1225000.0         </td><td>4.0              </td><td>4.5               </td><td>5420.0           </td><td>101930.0         </td><td>1.0               </td><td>0.0                 </td><td>0.0                </td><td>3.0               </td><td>11.0              </td><td>3890.0            </td><td>1530.0            </td><td>2001.0            </td><td>0.0               </td><td>98053.0          </td><td>47.6561            </td><td>-122.005           </td><td>4760.0            </td><td>101930.0          </td><td>2014.0            </td><td>5.0               </td></tr>\n",
       "<tr><td>6      </td><td>1321400060.0      </td><td>20140627T000000</td><td>257500.0          </td><td>3.0              </td><td>2.25              </td><td>1715.0           </td><td>6819.0           </td><td>2.0               </td><td>0.0                 </td><td>0.0                </td><td>3.0               </td><td>7.0               </td><td>1715.0            </td><td>0.0               </td><td>1995.0            </td><td>0.0               </td><td>98003.0          </td><td>47.3097            </td><td>-122.327           </td><td>2238.0            </td><td>6819.0            </td><td>2014.0            </td><td>6.0               </td></tr>\n",
       "<tr><td>7      </td><td>2008000270.0      </td><td>20150115T000000</td><td>291850.0          </td><td>3.0              </td><td>1.5               </td><td>1060.0           </td><td>9711.0           </td><td>1.0               </td><td>0.0                 </td><td>0.0                </td><td>3.0               </td><td>7.0               </td><td>1060.0            </td><td>0.0               </td><td>1963.0            </td><td>0.0               </td><td>98198.0          </td><td>47.4095            </td><td>-122.315           </td><td>1650.0            </td><td>9711.0            </td><td>2015.0            </td><td>1.0               </td></tr>\n",
       "<tr><td>8      </td><td>2414600126.0      </td><td>20150415T000000</td><td>229500.0          </td><td>3.0              </td><td>1.0               </td><td>1780.0           </td><td>7470.0           </td><td>1.0               </td><td>0.0                 </td><td>0.0                </td><td>3.0               </td><td>7.0               </td><td>1050.0            </td><td>730.0             </td><td>1960.0            </td><td>0.0               </td><td>98146.0          </td><td>47.5123            </td><td>-122.337           </td><td>1780.0            </td><td>8113.0            </td><td>2015.0            </td><td>4.0               </td></tr>\n",
       "<tr><td>9      </td><td>3793500160.0      </td><td>20150312T000000</td><td>323000.0          </td><td>3.0              </td><td>2.5               </td><td>1890.0           </td><td>6560.0           </td><td>2.0               </td><td>0.0                 </td><td>0.0                </td><td>3.0               </td><td>7.0               </td><td>1890.0            </td><td>0.0               </td><td>2003.0            </td><td>0.0               </td><td>98038.0          </td><td>47.3684            </td><td>-122.031           </td><td>2390.0            </td><td>7570.0            </td><td>2015.0            </td><td>3.0               </td></tr>\n",
       "</tbody>\n",
       "</table>"
      ]
     },
     "metadata": {},
     "output_type": "display_data"
    }
   ],
   "source": [
    "data.summary()"
   ]
  },
  {
   "cell_type": "code",
   "execution_count": 7,
   "metadata": {},
   "outputs": [
    {
     "data": {
      "text/plain": [
       "21613"
      ]
     },
     "execution_count": 7,
     "metadata": {},
     "output_type": "execute_result"
    }
   ],
   "source": [
    "data.nrows"
   ]
  },
  {
   "cell_type": "code",
   "execution_count": 8,
   "metadata": {},
   "outputs": [],
   "source": [
    "train, test = data.split_frame([0.9], seed=123)"
   ]
  },
  {
   "cell_type": "code",
   "execution_count": 9,
   "metadata": {},
   "outputs": [
    {
     "name": "stdout",
     "output_type": "stream",
     "text": [
      "19462/2151\n"
     ]
    }
   ],
   "source": [
    "print(\"%d/%d\" % (train.nrows, test.nrows))"
   ]
  },
  {
   "cell_type": "code",
   "execution_count": 10,
   "metadata": {},
   "outputs": [],
   "source": [
    "#For CV\n",
    "nfolds = 5\n",
    "train2 = train.rbind(test)"
   ]
  },
  {
   "cell_type": "code",
   "execution_count": 11,
   "metadata": {},
   "outputs": [
    {
     "data": {
      "text/plain": [
       "21613"
      ]
     },
     "execution_count": 11,
     "metadata": {},
     "output_type": "execute_result"
    }
   ],
   "source": [
    "train2.nrows"
   ]
  },
  {
   "cell_type": "code",
   "execution_count": 12,
   "metadata": {},
   "outputs": [],
   "source": [
    "y = 'price'\n",
    "ignoreFields = ['id', 'date', 'price', 'year', 'month']\n",
    "x = [i for i in data.names if i not in ignoreFields]"
   ]
  },
  {
   "cell_type": "markdown",
   "metadata": {},
   "source": [
    "GBM Model"
   ]
  },
  {
   "cell_type": "code",
   "execution_count": 13,
   "metadata": {},
   "outputs": [],
   "source": [
    "from h2o.estimators.gbm import H2OGradientBoostingEstimator"
   ]
  },
  {
   "cell_type": "code",
   "execution_count": 14,
   "metadata": {},
   "outputs": [
    {
     "name": "stdout",
     "output_type": "stream",
     "text": [
      "gbm Model Build progress: |███████████████████████████████████████████████| 100%\n"
     ]
    }
   ],
   "source": [
    "m_GBM = H2OGradientBoostingEstimator(\n",
    "    model_id = \"gbm_CV\",\n",
    "    ntrees = 500,\n",
    "    max_depth = 4,\n",
    "    seed = 123,\n",
    "    nfolds=nfolds,\n",
    "    fold_assignment = \"Modulo\",\n",
    "    keep_cross_validation_predictions = True\n",
    ")\n",
    "m_GBM.train(x, y, train2)"
   ]
  },
  {
   "cell_type": "code",
   "execution_count": 15,
   "metadata": {},
   "outputs": [
    {
     "name": "stdout",
     "output_type": "stream",
     "text": [
      "\n",
      "ModelMetricsRegression: gbm\n",
      "** Reported on test data. **\n",
      "\n",
      "MSE: 6195456881.088634\n",
      "RMSE: 78711.22461941901\n",
      "MAE: 53107.85115739994\n",
      "RMSLE: 0.14653734591602607\n",
      "Mean Residual Deviance: 6195456881.088634\n"
     ]
    },
    {
     "data": {
      "text/plain": []
     },
     "execution_count": 15,
     "metadata": {},
     "output_type": "execute_result"
    }
   ],
   "source": [
    "m_GBM.model_performance(test)"
   ]
  },
  {
   "cell_type": "markdown",
   "metadata": {},
   "source": [
    "RF Model"
   ]
  },
  {
   "cell_type": "code",
   "execution_count": 16,
   "metadata": {},
   "outputs": [],
   "source": [
    "from h2o.estimators.random_forest import H2ORandomForestEstimator"
   ]
  },
  {
   "cell_type": "code",
   "execution_count": 17,
   "metadata": {},
   "outputs": [
    {
     "name": "stdout",
     "output_type": "stream",
     "text": [
      "drf Model Build progress: |███████████████████████████████████████████████| 100%\n"
     ]
    }
   ],
   "source": [
    "m_RF = H2ORandomForestEstimator(\n",
    "    model_id = \"rf_CV\",\n",
    "    nfolds=nfolds,\n",
    "    fold_assignment = \"Modulo\",\n",
    "    keep_cross_validation_predictions = True\n",
    ")\n",
    "m_RF.train(x, y, train2)"
   ]
  },
  {
   "cell_type": "code",
   "execution_count": 18,
   "metadata": {},
   "outputs": [
    {
     "name": "stdout",
     "output_type": "stream",
     "text": [
      "\n",
      "ModelMetricsRegression: drf\n",
      "** Reported on test data. **\n",
      "\n",
      "MSE: 2920802853.201249\n",
      "RMSE: 54044.45256639435\n",
      "MAE: 30341.140228382083\n",
      "RMSLE: 0.08546994783257542\n",
      "Mean Residual Deviance: 2920802853.201249\n"
     ]
    },
    {
     "data": {
      "text/plain": []
     },
     "execution_count": 18,
     "metadata": {},
     "output_type": "execute_result"
    }
   ],
   "source": [
    "m_RF.model_performance(test)"
   ]
  },
  {
   "cell_type": "markdown",
   "metadata": {},
   "source": [
    "GLM Model"
   ]
  },
  {
   "cell_type": "code",
   "execution_count": 19,
   "metadata": {},
   "outputs": [],
   "source": [
    "from h2o.estimators.glm import H2OGeneralizedLinearEstimator"
   ]
  },
  {
   "cell_type": "code",
   "execution_count": 20,
   "metadata": {},
   "outputs": [
    {
     "name": "stdout",
     "output_type": "stream",
     "text": [
      "glm Model Build progress: |███████████████████████████████████████████████| 100%\n"
     ]
    }
   ],
   "source": [
    "m_GLM = H2OGeneralizedLinearEstimator(\n",
    "    model_id = \"glm_CV\",\n",
    "    nfolds = nfolds,\n",
    "    fold_assignment = \"Modulo\",\n",
    "    keep_cross_validation_predictions = True\n",
    ")\n",
    "m_GLM.train(x, y, train2)"
   ]
  },
  {
   "cell_type": "code",
   "execution_count": 21,
   "metadata": {},
   "outputs": [
    {
     "name": "stdout",
     "output_type": "stream",
     "text": [
      "\n",
      "ModelMetricsRegressionGLM: glm\n",
      "** Reported on test data. **\n",
      "\n",
      "MSE: 130256113233.24202\n",
      "RMSE: 360910.11794246227\n",
      "MAE: 235488.57369791853\n",
      "RMSLE: 0.5493660526300624\n",
      "R^2: 0.020115564904677363\n",
      "Mean Residual Deviance: 130256113233.24202\n",
      "Null degrees of freedom: 2150\n",
      "Residual degrees of freedom: 2132\n",
      "Null deviance: 285934555730977.8\n",
      "Residual deviance: 280180899564703.6\n",
      "AIC: 61194.31850814263\n"
     ]
    },
    {
     "data": {
      "text/plain": []
     },
     "execution_count": 21,
     "metadata": {},
     "output_type": "execute_result"
    }
   ],
   "source": [
    "m_GLM.model_performance(test)"
   ]
  },
  {
   "cell_type": "markdown",
   "metadata": {},
   "source": [
    "DeepLearning Estimator"
   ]
  },
  {
   "cell_type": "code",
   "execution_count": 22,
   "metadata": {},
   "outputs": [],
   "source": [
    "from h2o.estimators.deeplearning import H2ODeepLearningEstimator"
   ]
  },
  {
   "cell_type": "code",
   "execution_count": 23,
   "metadata": {},
   "outputs": [
    {
     "name": "stdout",
     "output_type": "stream",
     "text": [
      "deeplearning Model Build progress: |██████████████████████████████████████| 100%\n",
      "Wall time: 57.8 s\n"
     ]
    }
   ],
   "source": [
    "m_DLR = H2ODeepLearningEstimator(\n",
    "    model_id = \"DLR_CV\",\n",
    "    nfolds = nfolds,\n",
    "    fold_assignment = \"Modulo\",\n",
    "    keep_cross_validation_predictions = True,\n",
    "    variable_importances = True)\n",
    "%time m_DLR.train(x, y, train2)"
   ]
  },
  {
   "cell_type": "code",
   "execution_count": 24,
   "metadata": {},
   "outputs": [
    {
     "name": "stdout",
     "output_type": "stream",
     "text": [
      "\n",
      "ModelMetricsRegression: deeplearning\n",
      "** Reported on test data. **\n",
      "\n",
      "MSE: 15904314548.892538\n",
      "RMSE: 126112.30926793997\n",
      "MAE: 77503.79215413693\n",
      "RMSLE: 0.19346970505453878\n",
      "Mean Residual Deviance: 15904314548.892538\n"
     ]
    },
    {
     "data": {
      "text/plain": []
     },
     "execution_count": 24,
     "metadata": {},
     "output_type": "execute_result"
    }
   ],
   "source": [
    "m_DLR.model_performance(test)"
   ]
  },
  {
   "cell_type": "markdown",
   "metadata": {},
   "source": [
    "Stacked Ensemble"
   ]
  },
  {
   "cell_type": "code",
   "execution_count": 25,
   "metadata": {},
   "outputs": [],
   "source": [
    "from h2o.estimators.stackedensemble import H2OStackedEnsembleEstimator"
   ]
  },
  {
   "cell_type": "code",
   "execution_count": 26,
   "metadata": {},
   "outputs": [],
   "source": [
    "models = [m_GLM.model_id, m_GBM.model_id, m_RF.model_id, m_DLR.model_id]"
   ]
  },
  {
   "cell_type": "code",
   "execution_count": 27,
   "metadata": {},
   "outputs": [
    {
     "name": "stdout",
     "output_type": "stream",
     "text": [
      "stackedensemble Model Build progress: |███████████████████████████████████| 100%\n"
     ]
    }
   ],
   "source": [
    "m_SE = H2OStackedEnsembleEstimator (model_id = \"SE_glm_gbm_rf_dlr\",\n",
    "                                   base_models=models)\n",
    "m_SE.train(x, y, train2)"
   ]
  },
  {
   "cell_type": "code",
   "execution_count": 28,
   "metadata": {},
   "outputs": [
    {
     "name": "stdout",
     "output_type": "stream",
     "text": [
      "\n",
      "ModelMetricsRegressionGLM: stackedensemble\n",
      "** Reported on test data. **\n",
      "\n",
      "MSE: 8047569330.181299\n",
      "RMSE: 89708.2456086468\n",
      "MAE: 58069.15716196325\n",
      "RMSLE: 0.15214756068764573\n",
      "R^2: 0.939460131802991\n",
      "Mean Residual Deviance: 8047569330.181299\n",
      "Null degrees of freedom: 2150\n",
      "Residual degrees of freedom: 2147\n",
      "Null deviance: 285934555730977.8\n",
      "Residual deviance: 17310321629219.975\n",
      "AIC: 55175.649468656826\n"
     ]
    },
    {
     "data": {
      "text/plain": []
     },
     "execution_count": 28,
     "metadata": {},
     "output_type": "execute_result"
    }
   ],
   "source": [
    "m_SE.model_performance(test)"
   ]
  },
  {
   "cell_type": "code",
   "execution_count": null,
   "metadata": {},
   "outputs": [],
   "source": []
  },
  {
   "cell_type": "code",
   "execution_count": 29,
   "metadata": {},
   "outputs": [],
   "source": [
    "import pandas as pd"
   ]
  },
  {
   "cell_type": "code",
   "execution_count": 30,
   "metadata": {},
   "outputs": [],
   "source": [
    "all_models = [m_GLM, m_GBM, m_RF, m_DLR, m_SE]"
   ]
  },
  {
   "cell_type": "code",
   "execution_count": 31,
   "metadata": {},
   "outputs": [],
   "source": [
    "names = [\"GLM\", \"GBM\", \"RF\", \"DLR\", \"SE\"]"
   ]
  },
  {
   "cell_type": "code",
   "execution_count": 32,
   "metadata": {},
   "outputs": [
    {
     "data": {
      "text/plain": [
       "GLM    363567.423513\n",
       "GBM     78797.600061\n",
       "RF     128393.611687\n",
       "DLR    122190.722180\n",
       "SE      88312.090328\n",
       "dtype: float64"
      ]
     },
     "execution_count": 32,
     "metadata": {},
     "output_type": "execute_result"
    }
   ],
   "source": [
    "pd.Series(map(lambda x: x.rmse(), all_models), names)"
   ]
  },
  {
   "cell_type": "code",
   "execution_count": 33,
   "metadata": {},
   "outputs": [
    {
     "data": {
      "text/plain": [
       "GLM    364287.953087\n",
       "GBM    118301.686313\n",
       "RF     130774.978965\n",
       "DLR    123155.660758\n",
       "SE               NaN\n",
       "dtype: float64"
      ]
     },
     "execution_count": 33,
     "metadata": {},
     "output_type": "execute_result"
    }
   ],
   "source": [
    "#cross validation results are not there for SE, SE is built on all cross validation data, there is no separate dataset for it\n",
    "pd.Series(map(lambda x: x.rmse(xval = True), all_models), names)"
   ]
  },
  {
   "cell_type": "code",
   "execution_count": 34,
   "metadata": {},
   "outputs": [],
   "source": [
    "#Now on Test Dataset\n",
    "test_perf = list(map(lambda x: x.model_performance(test), all_models))"
   ]
  },
  {
   "cell_type": "code",
   "execution_count": 35,
   "metadata": {},
   "outputs": [
    {
     "data": {
      "text/plain": [
       "GLM    360910.117942\n",
       "GBM     78711.224619\n",
       "RF      54044.452566\n",
       "DLR    126112.309268\n",
       "SE      89708.245609\n",
       "dtype: float64"
      ]
     },
     "execution_count": 35,
     "metadata": {},
     "output_type": "execute_result"
    }
   ],
   "source": [
    "pd.Series(map(lambda p: p.rmse(), test_perf), names)"
   ]
  },
  {
   "cell_type": "markdown",
   "metadata": {},
   "source": [
    "On test data: GBM (RMSE: 78K), RF(RMSE: 53K), and SE(RMSE: 85K) reach the minimum requirements. RF is the winner. "
   ]
  },
  {
   "cell_type": "code",
   "execution_count": 37,
   "metadata": {},
   "outputs": [
    {
     "name": "stdout",
     "output_type": "stream",
     "text": [
      "D:\\minet\\H2o Course\\SE_glm_gbm_rf_dlr\n"
     ]
    }
   ],
   "source": [
    "#Saving model to disk\n",
    "model_path = h2o.save_model(model=m_SE, path=\"D:/minet/H2o Course\", force=True)\n",
    "print (model_path)"
   ]
  },
  {
   "cell_type": "code",
   "execution_count": 38,
   "metadata": {},
   "outputs": [
    {
     "name": "stdout",
     "output_type": "stream",
     "text": [
      "D:\\minet\\H2o Course\\gbm_CV\n"
     ]
    }
   ],
   "source": [
    "#Saving model to disk\n",
    "model_path = h2o.save_model(model=m_GBM, path=\"D:/minet/H2o Course\", force=True)\n",
    "print (model_path)"
   ]
  },
  {
   "cell_type": "code",
   "execution_count": 39,
   "metadata": {},
   "outputs": [
    {
     "name": "stdout",
     "output_type": "stream",
     "text": [
      "D:\\minet\\H2o Course\\glm_CV\n"
     ]
    }
   ],
   "source": [
    "#Saving model to disk\n",
    "model_path = h2o.save_model(model=m_GLM, path=\"D:/minet/H2o Course\", force=True)\n",
    "print (model_path)"
   ]
  },
  {
   "cell_type": "code",
   "execution_count": 40,
   "metadata": {},
   "outputs": [
    {
     "name": "stdout",
     "output_type": "stream",
     "text": [
      "D:\\minet\\H2o Course\\DLR_CV\n"
     ]
    }
   ],
   "source": [
    "#Saving model to disk\n",
    "model_path = h2o.save_model(model=m_DLR, path=\"D:/minet/H2o Course\", force=True)\n",
    "print (model_path)"
   ]
  },
  {
   "cell_type": "code",
   "execution_count": 41,
   "metadata": {},
   "outputs": [
    {
     "name": "stdout",
     "output_type": "stream",
     "text": [
      "D:\\minet\\H2o Course\\rf_CV\n"
     ]
    }
   ],
   "source": [
    "#Saving model to disk\n",
    "model_path = h2o.save_model(model=m_RF, path=\"D:/minet/H2o Course\", force=True)\n",
    "print (model_path)"
   ]
  },
  {
   "cell_type": "code",
   "execution_count": 42,
   "metadata": {},
   "outputs": [
    {
     "name": "stderr",
     "output_type": "stream",
     "text": [
      "<ipython-input-42-cd8b81f5e7bf>:1: DeprecationWarning: Deprecated, use ``h2o.cluster().shutdown()``.\n",
      "  h2o.h2o.shutdown(prompt = True)\n"
     ]
    },
    {
     "name": "stdout",
     "output_type": "stream",
     "text": [
      "Are you sure you want to shutdown the H2O instance running at http://localhost:54321 (Y/N)? Y\n",
      "H2O session _sid_be7e closed.\n"
     ]
    }
   ],
   "source": [
    "h2o.h2o.shutdown(prompt = True)"
   ]
  }
 ],
 "metadata": {
  "kernelspec": {
   "display_name": "Python 3",
   "language": "python",
   "name": "python3"
  },
  "language_info": {
   "codemirror_mode": {
    "name": "ipython",
    "version": 3
   },
   "file_extension": ".py",
   "mimetype": "text/x-python",
   "name": "python",
   "nbconvert_exporter": "python",
   "pygments_lexer": "ipython3",
   "version": "3.8.3"
  }
 },
 "nbformat": 4,
 "nbformat_minor": 4
}
