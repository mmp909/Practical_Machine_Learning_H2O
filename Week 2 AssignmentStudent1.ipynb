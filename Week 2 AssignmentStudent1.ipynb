{
 "cells": [
  {
   "cell_type": "code",
   "execution_count": 1,
   "metadata": {},
   "outputs": [],
   "source": [
    "import h2o\n",
    "import numpy as np\n",
    "import pandas as pd\n",
    "import math\n",
    "import random\n",
    "random.seed('123')"
   ]
  },
  {
   "cell_type": "code",
   "execution_count": 2,
   "metadata": {},
   "outputs": [
    {
     "name": "stdout",
     "output_type": "stream",
     "text": [
      "Checking whether there is an H2O instance running at http://localhost:54321 ..... not found.\n",
      "Attempting to start a local H2O server...\n",
      "; Java HotSpot(TM) 64-Bit Server VM 18.9 (build 11.0.2+9-LTS, mixed mode)\n",
      "  Starting server from C:\\Users\\dhruvKP\\Anaconda3\\lib\\site-packages\\h2o\\backend\\bin\\h2o.jar\n",
      "  Ice root: C:\\Users\\dhruvKP\\AppData\\Local\\Temp\\tmpm3u2pmiu\n",
      "  JVM stdout: C:\\Users\\dhruvKP\\AppData\\Local\\Temp\\tmpm3u2pmiu\\h2o_dhruvKP_started_from_python.out\n",
      "  JVM stderr: C:\\Users\\dhruvKP\\AppData\\Local\\Temp\\tmpm3u2pmiu\\h2o_dhruvKP_started_from_python.err\n",
      "  Server is running at http://127.0.0.1:54321\n",
      "Connecting to H2O server at http://127.0.0.1:54321 ... successful.\n"
     ]
    },
    {
     "data": {
      "text/html": [
       "<div style=\"overflow:auto\"><table style=\"width:50%\"><tr><td>H2O_cluster_uptime:</td>\n",
       "<td>06 secs</td></tr>\n",
       "<tr><td>H2O_cluster_timezone:</td>\n",
       "<td>Asia/Kolkata</td></tr>\n",
       "<tr><td>H2O_data_parsing_timezone:</td>\n",
       "<td>UTC</td></tr>\n",
       "<tr><td>H2O_cluster_version:</td>\n",
       "<td>3.30.0.7</td></tr>\n",
       "<tr><td>H2O_cluster_version_age:</td>\n",
       "<td>14 days, 1 hour and 38 minutes </td></tr>\n",
       "<tr><td>H2O_cluster_name:</td>\n",
       "<td>H2O_from_python_dhruvKP_4kv3gw</td></tr>\n",
       "<tr><td>H2O_cluster_total_nodes:</td>\n",
       "<td>1</td></tr>\n",
       "<tr><td>H2O_cluster_free_memory:</td>\n",
       "<td>1.971 Gb</td></tr>\n",
       "<tr><td>H2O_cluster_total_cores:</td>\n",
       "<td>4</td></tr>\n",
       "<tr><td>H2O_cluster_allowed_cores:</td>\n",
       "<td>4</td></tr>\n",
       "<tr><td>H2O_cluster_status:</td>\n",
       "<td>accepting new members, healthy</td></tr>\n",
       "<tr><td>H2O_connection_url:</td>\n",
       "<td>http://127.0.0.1:54321</td></tr>\n",
       "<tr><td>H2O_connection_proxy:</td>\n",
       "<td>{\"http\": null, \"https\": null}</td></tr>\n",
       "<tr><td>H2O_internal_security:</td>\n",
       "<td>False</td></tr>\n",
       "<tr><td>H2O_API_Extensions:</td>\n",
       "<td>Amazon S3, Algos, AutoML, Core V3, TargetEncoder, Core V4</td></tr>\n",
       "<tr><td>Python_version:</td>\n",
       "<td>3.7.3 final</td></tr></table></div>"
      ],
      "text/plain": [
       "--------------------------  ---------------------------------------------------------\n",
       "H2O_cluster_uptime:         06 secs\n",
       "H2O_cluster_timezone:       Asia/Kolkata\n",
       "H2O_data_parsing_timezone:  UTC\n",
       "H2O_cluster_version:        3.30.0.7\n",
       "H2O_cluster_version_age:    14 days, 1 hour and 38 minutes\n",
       "H2O_cluster_name:           H2O_from_python_dhruvKP_4kv3gw\n",
       "H2O_cluster_total_nodes:    1\n",
       "H2O_cluster_free_memory:    1.971 Gb\n",
       "H2O_cluster_total_cores:    4\n",
       "H2O_cluster_allowed_cores:  4\n",
       "H2O_cluster_status:         accepting new members, healthy\n",
       "H2O_connection_url:         http://127.0.0.1:54321\n",
       "H2O_connection_proxy:       {\"http\": null, \"https\": null}\n",
       "H2O_internal_security:      False\n",
       "H2O_API_Extensions:         Amazon S3, Algos, AutoML, Core V3, TargetEncoder, Core V4\n",
       "Python_version:             3.7.3 final\n",
       "--------------------------  ---------------------------------------------------------"
      ]
     },
     "metadata": {},
     "output_type": "display_data"
    }
   ],
   "source": [
    "h2o.init()"
   ]
  },
  {
   "cell_type": "code",
   "execution_count": 3,
   "metadata": {},
   "outputs": [],
   "source": [
    "n = 10001\n",
    "grades = [10, 9, 8, 7, 6, 5,9, 9 ,8 , 8 , 7, 6, 5, 0, 0]\n",
    "d = {'id': [i for i in range(1, n)]}"
   ]
  },
  {
   "cell_type": "code",
   "execution_count": 4,
   "metadata": {},
   "outputs": [],
   "source": [
    "df = pd.DataFrame(data = d)"
   ]
  },
  {
   "cell_type": "code",
   "execution_count": 5,
   "metadata": {},
   "outputs": [],
   "source": [
    "df['grades'] = [grades[x%len(grades)] for x in range(1, n)]"
   ]
  },
  {
   "cell_type": "code",
   "execution_count": 6,
   "metadata": {},
   "outputs": [],
   "source": [
    "df['gender'] = [random.randint(0, 1) for _ in range(1, n)]"
   ]
  },
  {
   "cell_type": "code",
   "execution_count": 123,
   "metadata": {},
   "outputs": [],
   "source": [
    "df['hoursStudiedPerWeek'] = [x*5 - random.randint(5, 15) for x in df['grades']]"
   ]
  },
  {
   "cell_type": "code",
   "execution_count": 124,
   "metadata": {},
   "outputs": [],
   "source": [
    "df['timeSpentOnScreen'] = [random.randint(10, 40) for x in df['hoursStudiedPerWeek']]"
   ]
  },
  {
   "cell_type": "code",
   "execution_count": 125,
   "metadata": {},
   "outputs": [
    {
     "name": "stdout",
     "output_type": "stream",
     "text": [
      "Parse progress: |█████████████████████████████████████████████████████████| 100%\n"
     ]
    }
   ],
   "source": [
    "studentGrades = h2o.H2OFrame(df, destination_frame='StudentGrades')"
   ]
  },
  {
   "cell_type": "code",
   "execution_count": 126,
   "metadata": {},
   "outputs": [
    {
     "data": {
      "text/plain": [
       "['gender', 'hoursStudiedPerWeek', 'timeSpentOnScreen']"
      ]
     },
     "execution_count": 126,
     "metadata": {},
     "output_type": "execute_result"
    }
   ],
   "source": [
    "y = 'grades'\n",
    "ignore = ['id', y]\n",
    "x = [i for i in studentGrades.names if i not in ignore]\n",
    "x"
   ]
  },
  {
   "cell_type": "code",
   "execution_count": 127,
   "metadata": {},
   "outputs": [],
   "source": [
    "train,val, test = studentGrades.split_frame(ratios=[0.8, 0.1], destination_frames=['train', 'val', 'test'])"
   ]
  },
  {
   "cell_type": "code",
   "execution_count": 128,
   "metadata": {},
   "outputs": [
    {
     "data": {
      "text/plain": [
       "(7985, 988, 1027)"
      ]
     },
     "execution_count": 128,
     "metadata": {},
     "output_type": "execute_result"
    }
   ],
   "source": [
    "train.nrows,val.nrows, test.nrows"
   ]
  },
  {
   "cell_type": "code",
   "execution_count": 129,
   "metadata": {},
   "outputs": [],
   "source": [
    "from h2o.estimators.gbm import H2OGradientBoostingEstimator"
   ]
  },
  {
   "cell_type": "code",
   "execution_count": 130,
   "metadata": {},
   "outputs": [
    {
     "name": "stdout",
     "output_type": "stream",
     "text": [
      "gbm Model Build progress: |███████████████████████████████████████████████| 100%\n"
     ]
    }
   ],
   "source": [
    "gbm = H2OGradientBoostingEstimator(model_id = 'normal')\n",
    "gbm.train(x, y, train, validation_frame = val)"
   ]
  },
  {
   "cell_type": "code",
   "execution_count": 131,
   "metadata": {},
   "outputs": [
    {
     "name": "stdout",
     "output_type": "stream",
     "text": [
      "Model Details\n",
      "=============\n",
      "H2OGradientBoostingEstimator :  Gradient Boosting Machine\n",
      "Model Key:  normal\n",
      "\n",
      "\n",
      "Model Summary: \n"
     ]
    },
    {
     "data": {
      "text/html": [
       "<div>\n",
       "<style scoped>\n",
       "    .dataframe tbody tr th:only-of-type {\n",
       "        vertical-align: middle;\n",
       "    }\n",
       "\n",
       "    .dataframe tbody tr th {\n",
       "        vertical-align: top;\n",
       "    }\n",
       "\n",
       "    .dataframe thead th {\n",
       "        text-align: right;\n",
       "    }\n",
       "</style>\n",
       "<table border=\"1\" class=\"dataframe\">\n",
       "  <thead>\n",
       "    <tr style=\"text-align: right;\">\n",
       "      <th></th>\n",
       "      <th></th>\n",
       "      <th>number_of_trees</th>\n",
       "      <th>number_of_internal_trees</th>\n",
       "      <th>model_size_in_bytes</th>\n",
       "      <th>min_depth</th>\n",
       "      <th>max_depth</th>\n",
       "      <th>mean_depth</th>\n",
       "      <th>min_leaves</th>\n",
       "      <th>max_leaves</th>\n",
       "      <th>mean_leaves</th>\n",
       "    </tr>\n",
       "  </thead>\n",
       "  <tbody>\n",
       "    <tr>\n",
       "      <th>0</th>\n",
       "      <td></td>\n",
       "      <td>50.0</td>\n",
       "      <td>50.0</td>\n",
       "      <td>13178.0</td>\n",
       "      <td>5.0</td>\n",
       "      <td>5.0</td>\n",
       "      <td>5.0</td>\n",
       "      <td>15.0</td>\n",
       "      <td>25.0</td>\n",
       "      <td>16.44</td>\n",
       "    </tr>\n",
       "  </tbody>\n",
       "</table>\n",
       "</div>"
      ],
      "text/plain": [
       "     number_of_trees  number_of_internal_trees  model_size_in_bytes  \\\n",
       "0               50.0                      50.0              13178.0   \n",
       "\n",
       "   min_depth  max_depth  mean_depth  min_leaves  max_leaves  mean_leaves  \n",
       "0        5.0        5.0         5.0        15.0        25.0        16.44  "
      ]
     },
     "metadata": {},
     "output_type": "display_data"
    },
    {
     "name": "stdout",
     "output_type": "stream",
     "text": [
      "\n",
      "\n",
      "ModelMetricsRegression: gbm\n",
      "** Reported on train data. **\n",
      "\n",
      "MSE: 0.24197666403042542\n",
      "RMSE: 0.4919112359261836\n",
      "MAE: 0.40166888012688984\n",
      "RMSLE: 0.06136392847540783\n",
      "Mean Residual Deviance: 0.24197666403042542\n",
      "\n",
      "ModelMetricsRegression: gbm\n",
      "** Reported on validation data. **\n",
      "\n",
      "MSE: 0.25587087298898126\n",
      "RMSE: 0.5058368046998768\n",
      "MAE: 0.4103678682649698\n",
      "RMSLE: 0.0637686213730883\n",
      "Mean Residual Deviance: 0.25587087298898126\n",
      "\n",
      "Scoring History: \n"
     ]
    },
    {
     "data": {
      "text/html": [
       "<div>\n",
       "<style scoped>\n",
       "    .dataframe tbody tr th:only-of-type {\n",
       "        vertical-align: middle;\n",
       "    }\n",
       "\n",
       "    .dataframe tbody tr th {\n",
       "        vertical-align: top;\n",
       "    }\n",
       "\n",
       "    .dataframe thead th {\n",
       "        text-align: right;\n",
       "    }\n",
       "</style>\n",
       "<table border=\"1\" class=\"dataframe\">\n",
       "  <thead>\n",
       "    <tr style=\"text-align: right;\">\n",
       "      <th></th>\n",
       "      <th></th>\n",
       "      <th>timestamp</th>\n",
       "      <th>duration</th>\n",
       "      <th>number_of_trees</th>\n",
       "      <th>training_rmse</th>\n",
       "      <th>training_mae</th>\n",
       "      <th>training_deviance</th>\n",
       "      <th>validation_rmse</th>\n",
       "      <th>validation_mae</th>\n",
       "      <th>validation_deviance</th>\n",
       "    </tr>\n",
       "  </thead>\n",
       "  <tbody>\n",
       "    <tr>\n",
       "      <th>0</th>\n",
       "      <td></td>\n",
       "      <td>2020-08-04 19:13:49</td>\n",
       "      <td>0.008 sec</td>\n",
       "      <td>0.0</td>\n",
       "      <td>2.919140</td>\n",
       "      <td>2.240648</td>\n",
       "      <td>8.521380</td>\n",
       "      <td>2.913394</td>\n",
       "      <td>2.231596</td>\n",
       "      <td>8.487866</td>\n",
       "    </tr>\n",
       "    <tr>\n",
       "      <th>1</th>\n",
       "      <td></td>\n",
       "      <td>2020-08-04 19:13:49</td>\n",
       "      <td>0.019 sec</td>\n",
       "      <td>1.0</td>\n",
       "      <td>2.636070</td>\n",
       "      <td>2.026304</td>\n",
       "      <td>6.948867</td>\n",
       "      <td>2.631292</td>\n",
       "      <td>2.019387</td>\n",
       "      <td>6.923697</td>\n",
       "    </tr>\n",
       "    <tr>\n",
       "      <th>2</th>\n",
       "      <td></td>\n",
       "      <td>2020-08-04 19:13:49</td>\n",
       "      <td>0.024 sec</td>\n",
       "      <td>2.0</td>\n",
       "      <td>2.382252</td>\n",
       "      <td>1.833394</td>\n",
       "      <td>5.675127</td>\n",
       "      <td>2.378378</td>\n",
       "      <td>1.828371</td>\n",
       "      <td>5.656680</td>\n",
       "    </tr>\n",
       "    <tr>\n",
       "      <th>3</th>\n",
       "      <td></td>\n",
       "      <td>2020-08-04 19:13:49</td>\n",
       "      <td>0.030 sec</td>\n",
       "      <td>3.0</td>\n",
       "      <td>2.154854</td>\n",
       "      <td>1.659789</td>\n",
       "      <td>4.643397</td>\n",
       "      <td>2.151847</td>\n",
       "      <td>1.656537</td>\n",
       "      <td>4.630447</td>\n",
       "    </tr>\n",
       "    <tr>\n",
       "      <th>4</th>\n",
       "      <td></td>\n",
       "      <td>2020-08-04 19:13:49</td>\n",
       "      <td>0.036 sec</td>\n",
       "      <td>4.0</td>\n",
       "      <td>1.951330</td>\n",
       "      <td>1.504760</td>\n",
       "      <td>3.807690</td>\n",
       "      <td>1.949107</td>\n",
       "      <td>1.503450</td>\n",
       "      <td>3.799017</td>\n",
       "    </tr>\n",
       "    <tr>\n",
       "      <th>5</th>\n",
       "      <td></td>\n",
       "      <td>2020-08-04 19:13:49</td>\n",
       "      <td>0.041 sec</td>\n",
       "      <td>5.0</td>\n",
       "      <td>1.769397</td>\n",
       "      <td>1.366779</td>\n",
       "      <td>3.130764</td>\n",
       "      <td>1.767958</td>\n",
       "      <td>1.367511</td>\n",
       "      <td>3.125675</td>\n",
       "    </tr>\n",
       "    <tr>\n",
       "      <th>6</th>\n",
       "      <td></td>\n",
       "      <td>2020-08-04 19:13:49</td>\n",
       "      <td>0.047 sec</td>\n",
       "      <td>6.0</td>\n",
       "      <td>1.607000</td>\n",
       "      <td>1.242586</td>\n",
       "      <td>2.582448</td>\n",
       "      <td>1.606269</td>\n",
       "      <td>1.245099</td>\n",
       "      <td>2.580099</td>\n",
       "    </tr>\n",
       "    <tr>\n",
       "      <th>7</th>\n",
       "      <td></td>\n",
       "      <td>2020-08-04 19:13:49</td>\n",
       "      <td>0.050 sec</td>\n",
       "      <td>7.0</td>\n",
       "      <td>1.462295</td>\n",
       "      <td>1.139696</td>\n",
       "      <td>2.138305</td>\n",
       "      <td>1.462245</td>\n",
       "      <td>1.144295</td>\n",
       "      <td>2.138162</td>\n",
       "    </tr>\n",
       "    <tr>\n",
       "      <th>8</th>\n",
       "      <td></td>\n",
       "      <td>2020-08-04 19:13:49</td>\n",
       "      <td>0.054 sec</td>\n",
       "      <td>8.0</td>\n",
       "      <td>1.333620</td>\n",
       "      <td>1.049862</td>\n",
       "      <td>1.778543</td>\n",
       "      <td>1.334308</td>\n",
       "      <td>1.056210</td>\n",
       "      <td>1.780378</td>\n",
       "    </tr>\n",
       "    <tr>\n",
       "      <th>9</th>\n",
       "      <td></td>\n",
       "      <td>2020-08-04 19:13:49</td>\n",
       "      <td>0.057 sec</td>\n",
       "      <td>9.0</td>\n",
       "      <td>1.219480</td>\n",
       "      <td>0.969025</td>\n",
       "      <td>1.487130</td>\n",
       "      <td>1.220794</td>\n",
       "      <td>0.976794</td>\n",
       "      <td>1.490337</td>\n",
       "    </tr>\n",
       "    <tr>\n",
       "      <th>10</th>\n",
       "      <td></td>\n",
       "      <td>2020-08-04 19:13:49</td>\n",
       "      <td>0.061 sec</td>\n",
       "      <td>10.0</td>\n",
       "      <td>1.118517</td>\n",
       "      <td>0.896254</td>\n",
       "      <td>1.251081</td>\n",
       "      <td>1.120548</td>\n",
       "      <td>0.905449</td>\n",
       "      <td>1.255627</td>\n",
       "    </tr>\n",
       "    <tr>\n",
       "      <th>11</th>\n",
       "      <td></td>\n",
       "      <td>2020-08-04 19:13:49</td>\n",
       "      <td>0.066 sec</td>\n",
       "      <td>11.0</td>\n",
       "      <td>1.029487</td>\n",
       "      <td>0.830790</td>\n",
       "      <td>1.059844</td>\n",
       "      <td>1.032128</td>\n",
       "      <td>0.841174</td>\n",
       "      <td>1.065288</td>\n",
       "    </tr>\n",
       "    <tr>\n",
       "      <th>12</th>\n",
       "      <td></td>\n",
       "      <td>2020-08-04 19:13:49</td>\n",
       "      <td>0.070 sec</td>\n",
       "      <td>12.0</td>\n",
       "      <td>0.951283</td>\n",
       "      <td>0.774714</td>\n",
       "      <td>0.904940</td>\n",
       "      <td>0.954592</td>\n",
       "      <td>0.785921</td>\n",
       "      <td>0.911245</td>\n",
       "    </tr>\n",
       "    <tr>\n",
       "      <th>13</th>\n",
       "      <td></td>\n",
       "      <td>2020-08-04 19:13:49</td>\n",
       "      <td>0.075 sec</td>\n",
       "      <td>13.0</td>\n",
       "      <td>0.882867</td>\n",
       "      <td>0.724340</td>\n",
       "      <td>0.779454</td>\n",
       "      <td>0.886754</td>\n",
       "      <td>0.736221</td>\n",
       "      <td>0.786332</td>\n",
       "    </tr>\n",
       "    <tr>\n",
       "      <th>14</th>\n",
       "      <td></td>\n",
       "      <td>2020-08-04 19:13:49</td>\n",
       "      <td>0.078 sec</td>\n",
       "      <td>14.0</td>\n",
       "      <td>0.823279</td>\n",
       "      <td>0.683628</td>\n",
       "      <td>0.677789</td>\n",
       "      <td>0.827881</td>\n",
       "      <td>0.695449</td>\n",
       "      <td>0.685386</td>\n",
       "    </tr>\n",
       "    <tr>\n",
       "      <th>15</th>\n",
       "      <td></td>\n",
       "      <td>2020-08-04 19:13:49</td>\n",
       "      <td>0.081 sec</td>\n",
       "      <td>15.0</td>\n",
       "      <td>0.771628</td>\n",
       "      <td>0.649826</td>\n",
       "      <td>0.595410</td>\n",
       "      <td>0.776823</td>\n",
       "      <td>0.661004</td>\n",
       "      <td>0.603453</td>\n",
       "    </tr>\n",
       "    <tr>\n",
       "      <th>16</th>\n",
       "      <td></td>\n",
       "      <td>2020-08-04 19:13:49</td>\n",
       "      <td>0.084 sec</td>\n",
       "      <td>16.0</td>\n",
       "      <td>0.727103</td>\n",
       "      <td>0.619405</td>\n",
       "      <td>0.528679</td>\n",
       "      <td>0.732843</td>\n",
       "      <td>0.629997</td>\n",
       "      <td>0.537059</td>\n",
       "    </tr>\n",
       "    <tr>\n",
       "      <th>17</th>\n",
       "      <td></td>\n",
       "      <td>2020-08-04 19:13:49</td>\n",
       "      <td>0.087 sec</td>\n",
       "      <td>17.0</td>\n",
       "      <td>0.688928</td>\n",
       "      <td>0.592008</td>\n",
       "      <td>0.474622</td>\n",
       "      <td>0.695189</td>\n",
       "      <td>0.602052</td>\n",
       "      <td>0.483288</td>\n",
       "    </tr>\n",
       "    <tr>\n",
       "      <th>18</th>\n",
       "      <td></td>\n",
       "      <td>2020-08-04 19:13:49</td>\n",
       "      <td>0.093 sec</td>\n",
       "      <td>18.0</td>\n",
       "      <td>0.656379</td>\n",
       "      <td>0.567353</td>\n",
       "      <td>0.430833</td>\n",
       "      <td>0.663143</td>\n",
       "      <td>0.576921</td>\n",
       "      <td>0.439759</td>\n",
       "    </tr>\n",
       "    <tr>\n",
       "      <th>19</th>\n",
       "      <td></td>\n",
       "      <td>2020-08-04 19:13:49</td>\n",
       "      <td>0.098 sec</td>\n",
       "      <td>19.0</td>\n",
       "      <td>0.628777</td>\n",
       "      <td>0.545165</td>\n",
       "      <td>0.395360</td>\n",
       "      <td>0.636063</td>\n",
       "      <td>0.554337</td>\n",
       "      <td>0.404576</td>\n",
       "    </tr>\n",
       "  </tbody>\n",
       "</table>\n",
       "</div>"
      ],
      "text/plain": [
       "                timestamp    duration  number_of_trees  training_rmse  \\\n",
       "0     2020-08-04 19:13:49   0.008 sec              0.0       2.919140   \n",
       "1     2020-08-04 19:13:49   0.019 sec              1.0       2.636070   \n",
       "2     2020-08-04 19:13:49   0.024 sec              2.0       2.382252   \n",
       "3     2020-08-04 19:13:49   0.030 sec              3.0       2.154854   \n",
       "4     2020-08-04 19:13:49   0.036 sec              4.0       1.951330   \n",
       "5     2020-08-04 19:13:49   0.041 sec              5.0       1.769397   \n",
       "6     2020-08-04 19:13:49   0.047 sec              6.0       1.607000   \n",
       "7     2020-08-04 19:13:49   0.050 sec              7.0       1.462295   \n",
       "8     2020-08-04 19:13:49   0.054 sec              8.0       1.333620   \n",
       "9     2020-08-04 19:13:49   0.057 sec              9.0       1.219480   \n",
       "10    2020-08-04 19:13:49   0.061 sec             10.0       1.118517   \n",
       "11    2020-08-04 19:13:49   0.066 sec             11.0       1.029487   \n",
       "12    2020-08-04 19:13:49   0.070 sec             12.0       0.951283   \n",
       "13    2020-08-04 19:13:49   0.075 sec             13.0       0.882867   \n",
       "14    2020-08-04 19:13:49   0.078 sec             14.0       0.823279   \n",
       "15    2020-08-04 19:13:49   0.081 sec             15.0       0.771628   \n",
       "16    2020-08-04 19:13:49   0.084 sec             16.0       0.727103   \n",
       "17    2020-08-04 19:13:49   0.087 sec             17.0       0.688928   \n",
       "18    2020-08-04 19:13:49   0.093 sec             18.0       0.656379   \n",
       "19    2020-08-04 19:13:49   0.098 sec             19.0       0.628777   \n",
       "\n",
       "    training_mae  training_deviance  validation_rmse  validation_mae  \\\n",
       "0       2.240648           8.521380         2.913394        2.231596   \n",
       "1       2.026304           6.948867         2.631292        2.019387   \n",
       "2       1.833394           5.675127         2.378378        1.828371   \n",
       "3       1.659789           4.643397         2.151847        1.656537   \n",
       "4       1.504760           3.807690         1.949107        1.503450   \n",
       "5       1.366779           3.130764         1.767958        1.367511   \n",
       "6       1.242586           2.582448         1.606269        1.245099   \n",
       "7       1.139696           2.138305         1.462245        1.144295   \n",
       "8       1.049862           1.778543         1.334308        1.056210   \n",
       "9       0.969025           1.487130         1.220794        0.976794   \n",
       "10      0.896254           1.251081         1.120548        0.905449   \n",
       "11      0.830790           1.059844         1.032128        0.841174   \n",
       "12      0.774714           0.904940         0.954592        0.785921   \n",
       "13      0.724340           0.779454         0.886754        0.736221   \n",
       "14      0.683628           0.677789         0.827881        0.695449   \n",
       "15      0.649826           0.595410         0.776823        0.661004   \n",
       "16      0.619405           0.528679         0.732843        0.629997   \n",
       "17      0.592008           0.474622         0.695189        0.602052   \n",
       "18      0.567353           0.430833         0.663143        0.576921   \n",
       "19      0.545165           0.395360         0.636063        0.554337   \n",
       "\n",
       "    validation_deviance  \n",
       "0              8.487866  \n",
       "1              6.923697  \n",
       "2              5.656680  \n",
       "3              4.630447  \n",
       "4              3.799017  \n",
       "5              3.125675  \n",
       "6              2.580099  \n",
       "7              2.138162  \n",
       "8              1.780378  \n",
       "9              1.490337  \n",
       "10             1.255627  \n",
       "11             1.065288  \n",
       "12             0.911245  \n",
       "13             0.786332  \n",
       "14             0.685386  \n",
       "15             0.603453  \n",
       "16             0.537059  \n",
       "17             0.483288  \n",
       "18             0.439759  \n",
       "19             0.404576  "
      ]
     },
     "metadata": {},
     "output_type": "display_data"
    },
    {
     "name": "stdout",
     "output_type": "stream",
     "text": [
      "\n",
      "See the whole table with table.as_data_frame()\n",
      "\n",
      "Variable Importances: \n"
     ]
    },
    {
     "data": {
      "text/html": [
       "<div>\n",
       "<style scoped>\n",
       "    .dataframe tbody tr th:only-of-type {\n",
       "        vertical-align: middle;\n",
       "    }\n",
       "\n",
       "    .dataframe tbody tr th {\n",
       "        vertical-align: top;\n",
       "    }\n",
       "\n",
       "    .dataframe thead th {\n",
       "        text-align: right;\n",
       "    }\n",
       "</style>\n",
       "<table border=\"1\" class=\"dataframe\">\n",
       "  <thead>\n",
       "    <tr style=\"text-align: right;\">\n",
       "      <th></th>\n",
       "      <th>variable</th>\n",
       "      <th>relative_importance</th>\n",
       "      <th>scaled_importance</th>\n",
       "      <th>percentage</th>\n",
       "    </tr>\n",
       "  </thead>\n",
       "  <tbody>\n",
       "    <tr>\n",
       "      <th>0</th>\n",
       "      <td>hoursStudiedPerWeek</td>\n",
       "      <td>347820.750000</td>\n",
       "      <td>1.000000</td>\n",
       "      <td>0.999621</td>\n",
       "    </tr>\n",
       "    <tr>\n",
       "      <th>1</th>\n",
       "      <td>timeSpentOnScreen</td>\n",
       "      <td>120.025871</td>\n",
       "      <td>0.000345</td>\n",
       "      <td>0.000345</td>\n",
       "    </tr>\n",
       "    <tr>\n",
       "      <th>2</th>\n",
       "      <td>gender</td>\n",
       "      <td>11.715752</td>\n",
       "      <td>0.000034</td>\n",
       "      <td>0.000034</td>\n",
       "    </tr>\n",
       "  </tbody>\n",
       "</table>\n",
       "</div>"
      ],
      "text/plain": [
       "              variable  relative_importance  scaled_importance  percentage\n",
       "0  hoursStudiedPerWeek        347820.750000           1.000000    0.999621\n",
       "1    timeSpentOnScreen           120.025871           0.000345    0.000345\n",
       "2               gender            11.715752           0.000034    0.000034"
      ]
     },
     "metadata": {},
     "output_type": "display_data"
    },
    {
     "data": {
      "text/plain": []
     },
     "execution_count": 131,
     "metadata": {},
     "output_type": "execute_result"
    }
   ],
   "source": [
    "gbm"
   ]
  },
  {
   "cell_type": "code",
   "execution_count": 132,
   "metadata": {},
   "outputs": [
    {
     "name": "stdout",
     "output_type": "stream",
     "text": [
      "gbm prediction progress: |████████████████████████████████████████████████| 100%\n"
     ]
    },
    {
     "data": {
      "text/html": [
       "<table>\n",
       "<thead>\n",
       "<tr><th style=\"text-align: right;\">  predict</th></tr>\n",
       "</thead>\n",
       "<tbody>\n",
       "<tr><td style=\"text-align: right;\">8.48565  </td></tr>\n",
       "<tr><td style=\"text-align: right;\">7.62513  </td></tr>\n",
       "<tr><td style=\"text-align: right;\">6.49321  </td></tr>\n",
       "<tr><td style=\"text-align: right;\">5.00492  </td></tr>\n",
       "<tr><td style=\"text-align: right;\">0.0333993</td></tr>\n",
       "<tr><td style=\"text-align: right;\">9.98774  </td></tr>\n",
       "<tr><td style=\"text-align: right;\">6.08018  </td></tr>\n",
       "<tr><td style=\"text-align: right;\">9.2371   </td></tr>\n",
       "<tr><td style=\"text-align: right;\">0.0333993</td></tr>\n",
       "<tr><td style=\"text-align: right;\">7.45353  </td></tr>\n",
       "</tbody>\n",
       "</table>"
      ]
     },
     "metadata": {},
     "output_type": "display_data"
    },
    {
     "data": {
      "text/plain": []
     },
     "execution_count": 132,
     "metadata": {},
     "output_type": "execute_result"
    }
   ],
   "source": [
    "gbm.predict(test)"
   ]
  },
  {
   "cell_type": "code",
   "execution_count": 133,
   "metadata": {},
   "outputs": [
    {
     "name": "stdout",
     "output_type": "stream",
     "text": [
      "\n",
      "ModelMetricsRegression: gbm\n",
      "** Reported on test data. **\n",
      "\n",
      "MSE: 0.24416487409448698\n",
      "RMSE: 0.4941304221503539\n",
      "MAE: 0.397538365193535\n",
      "RMSLE: 0.06270483002644209\n",
      "Mean Residual Deviance: 0.24416487409448698\n"
     ]
    },
    {
     "data": {
      "text/plain": []
     },
     "execution_count": 133,
     "metadata": {},
     "output_type": "execute_result"
    }
   ],
   "source": [
    "gbm.model_performance(test)"
   ]
  },
  {
   "cell_type": "code",
   "execution_count": 134,
   "metadata": {},
   "outputs": [
    {
     "data": {
      "text/plain": [
       "0.40166888012688984"
      ]
     },
     "execution_count": 134,
     "metadata": {},
     "output_type": "execute_result"
    }
   ],
   "source": [
    "gbm.mae(train=True)"
   ]
  },
  {
   "cell_type": "code",
   "execution_count": 135,
   "metadata": {},
   "outputs": [
    {
     "data": {
      "text/plain": [
       "0.4103678682649698"
      ]
     },
     "execution_count": 135,
     "metadata": {},
     "output_type": "execute_result"
    }
   ],
   "source": [
    "gbm.mae(valid=True)"
   ]
  },
  {
   "cell_type": "code",
   "execution_count": 136,
   "metadata": {},
   "outputs": [
    {
     "data": {
      "text/plain": [
       "0.397538365193535"
      ]
     },
     "execution_count": 136,
     "metadata": {},
     "output_type": "execute_result"
    }
   ],
   "source": [
    "perf = gbm.model_performance(test)\n",
    "perf.mae()"
   ]
  },
  {
   "cell_type": "code",
   "execution_count": 137,
   "metadata": {},
   "outputs": [
    {
     "name": "stdout",
     "output_type": "stream",
     "text": [
      "gbm Model Build progress: |███████████████████████████████████████████████| 100%\n"
     ]
    }
   ],
   "source": [
    "gbmOver = H2OGradientBoostingEstimator(model_id = \"overfitAssignment\",ntrees = 1000, learn_rate = 0.06)\n",
    "gbmOver.train(x, y, train,validation_frame = val)"
   ]
  },
  {
   "cell_type": "code",
   "execution_count": 138,
   "metadata": {},
   "outputs": [
    {
     "data": {
      "text/plain": [
       "0.3933746008829287"
      ]
     },
     "execution_count": 138,
     "metadata": {},
     "output_type": "execute_result"
    }
   ],
   "source": [
    "gbmOver.mae(train = True)"
   ]
  },
  {
   "cell_type": "code",
   "execution_count": 139,
   "metadata": {},
   "outputs": [
    {
     "data": {
      "text/plain": [
       "0.40722920901194815"
      ]
     },
     "execution_count": 139,
     "metadata": {},
     "output_type": "execute_result"
    }
   ],
   "source": [
    "gbmOver.mae(valid = True)"
   ]
  },
  {
   "cell_type": "code",
   "execution_count": 140,
   "metadata": {},
   "outputs": [
    {
     "data": {
      "text/plain": [
       "0.39457085424332705"
      ]
     },
     "execution_count": 140,
     "metadata": {},
     "output_type": "execute_result"
    }
   ],
   "source": [
    "perf = gbmOver.model_performance(test)\n",
    "perf.mae()"
   ]
  },
  {
   "cell_type": "code",
   "execution_count": null,
   "metadata": {},
   "outputs": [],
   "source": []
  }
 ],
 "metadata": {
  "kernelspec": {
   "display_name": "Python 3",
   "language": "python",
   "name": "python3"
  },
  "language_info": {
   "codemirror_mode": {
    "name": "ipython",
    "version": 3
   },
   "file_extension": ".py",
   "mimetype": "text/x-python",
   "name": "python",
   "nbconvert_exporter": "python",
   "pygments_lexer": "ipython3",
   "version": "3.7.3"
  }
 },
 "nbformat": 4,
 "nbformat_minor": 4
}
